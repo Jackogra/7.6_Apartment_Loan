{
 "cells": [
  {
   "cell_type": "markdown",
   "metadata": {},
   "source": [
    "You are planning to buy an apartment. The desired property currently costs PLN 120,000, but you predict that apartment prices will grow at a rate of 5% per year for the next 5 years. At the moment, you do not have sufficient funds, so you find an offer from a bank that proposes a deposit to which you add a certain fixed amount at the end of each month. The bank offers a nominal annual interest rate of 12%, with monthly compounding.\n",
    "\n",
    "-What will be the estimated price of the apartment in 5 years?\n",
    "\n",
    "-How much do you need to deposit into the bank each month to accumulate enough for the apartment\n",
    " within 5 years with the presented offer?\n",
    " \n",
    "-Create a graph showing how the apartment price (linear growth over the entire period) and the value\n",
    " of your deposit will change in monthly intervals.\n",
    "\n",
    "Use the NumPy, NumPy-financial, and Matplotlib libraries to complete the above task. Place the answers to the questions in a Notebook (if you are using one) or in comments in the code."
   ]
  },
  {
   "cell_type": "code",
   "execution_count": 2,
   "metadata": {},
   "outputs": [],
   "source": [
    "# import necessary modules\n",
    "import numpy as np\n",
    "import numpy_financial as npf\n",
    "import matplotlib.pyplot as plt"
   ]
  },
  {
   "cell_type": "code",
   "execution_count": null,
   "metadata": {},
   "outputs": [],
   "source": []
  }
 ],
 "metadata": {
  "kernelspec": {
   "display_name": "Python 3",
   "language": "python",
   "name": "python3"
  },
  "language_info": {
   "codemirror_mode": {
    "name": "ipython",
    "version": 3
   },
   "file_extension": ".py",
   "mimetype": "text/x-python",
   "name": "python",
   "nbconvert_exporter": "python",
   "pygments_lexer": "ipython3",
   "version": "3.8.5"
  }
 },
 "nbformat": 4,
 "nbformat_minor": 4
}
