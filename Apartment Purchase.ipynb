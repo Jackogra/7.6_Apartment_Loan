{
 "cells": [
  {
   "cell_type": "markdown",
   "metadata": {},
   "source": [
    "You are planning to buy an apartment. The desired property currently costs PLN 120,000, but you predict that apartment prices will grow at a rate of 5% per year for the next 5 years. At the moment, you do not have sufficient funds, so you find an offer from a bank that proposes a deposit to which you add a certain fixed amount at the end of each month. The bank offers a nominal annual interest rate of 12%, with monthly compounding.\n",
    "\n",
    "-What will be the estimated price of the apartment in 5 years?\n",
    "\n",
    "-How much do you need to deposit into the bank each month to accumulate enough for the apartment\n",
    " within 5 years with the presented offer?\n",
    " \n",
    "-Create a graph showing how the apartment price (linear growth over the entire period) and the value\n",
    " of your deposit will change in monthly intervals.\n",
    "\n",
    "Use the NumPy, NumPy-financial, and Matplotlib libraries to complete the above task. Place the answers to the questions in a Notebook (if you are using one) or in comments in the code."
   ]
  },
  {
   "cell_type": "code",
   "execution_count": 31,
   "metadata": {},
   "outputs": [],
   "source": [
    "# import necessary modules\n",
    "import numpy as np\n",
    "import numpy_financial as npf\n",
    "import matplotlib.pyplot as plt"
   ]
  },
  {
   "cell_type": "code",
   "execution_count": 32,
   "metadata": {},
   "outputs": [],
   "source": [
    "# basic data\n",
    "av = 120000                     # Current apartment value\n",
    "ygr = 0.05                      # Expected apartment value grow rate in the next 5 years\n",
    "per = 5                         # Number of years when apartment value will grow per 5% per year\n",
    "ybdr = 0.12                     # Yearly bank deposit rate with monthly capitalization \n",
    "piy = 12                        # Number of periods per year for monthly capitalization of deposit\n",
    "noad = piy * per                # Number of all deposit payments"
   ]
  },
  {
   "cell_type": "code",
   "execution_count": 39,
   "metadata": {},
   "outputs": [
    {
     "name": "stdout",
     "output_type": "stream",
     "text": [
      "Apartment value in 5 years:  153153.79\n"
     ]
    }
   ],
   "source": [
    "# Apartment value in 5 years\n",
    "vi5y = np.around(av * ((1 + ygr) ** per),2)\n",
    "print(\"Apartment value in 5 years: \", vi5y)"
   ]
  },
  {
   "cell_type": "code",
   "execution_count": 40,
   "metadata": {},
   "outputs": [],
   "source": [
    "# Monthly calculation rate\n",
    "mcr = ybdr / piy  # Calculate montly payment rate for deposit"
   ]
  },
  {
   "cell_type": "code",
   "execution_count": 41,
   "metadata": {},
   "outputs": [],
   "source": [
    "# Number of all payments\n",
    "noap = per * piy  # Calculate number of payment periods per 5 years"
   ]
  },
  {
   "cell_type": "code",
   "execution_count": 42,
   "metadata": {
    "scrolled": true
   },
   "outputs": [
    {
     "name": "stdout",
     "output_type": "stream",
     "text": [
      "To have sufficient founds in 5 years, you have to save 1875.28 montly, per full deposit period.\n"
     ]
    }
   ],
   "source": [
    "# Expected montly payment\n",
    "emp = np.around(-npf.pmt(mcr, noap, 0, vi5y), 2)\n",
    "print(\"To have sufficient founds in 5 years, you have to save\", emp, \"montly, per full deposit period.\")"
   ]
  },
  {
   "cell_type": "code",
   "execution_count": 44,
   "metadata": {
    "scrolled": false
   },
   "outputs": [
    {
     "data": {
      "text/plain": [
       "Text(0, 0.5, 'Value')"
      ]
     },
     "execution_count": 44,
     "metadata": {},
     "output_type": "execute_result"
    },
    {
     "data": {
      "image/png": "[encoded data removed]",
      "text/plain": [
       "<Figure size 432x288 with 1 Axes>"
      ]
     },
     "metadata": {
      "needs_background": "light"
     },
     "output_type": "display_data"
    }
   ],
   "source": [
    "nom = np.arange(0, noad + 1)             # Number of months for board\n",
    "avpm = np.linspace(av, vi5y, noad + 1)   # Apartment value per month\n",
    "dbf = np.arange(0, noad + 1)             # Number of deposites done by far\n",
    "dvpm = -npf.fv(mcr, dbf, emp, 0)        # Value of the deposit per month\n",
    "\n",
    "plt.plot(nom, avpm, label='Apartment Value')\n",
    "plt.plot(nom, dvpm, label='Deposit')\n",
    "plt.legend()\n",
    "plt.xlabel('Months')\n",
    "plt.ylabel('Value')"
   ]
  },
  {
   "cell_type": "code",
   "execution_count": null,
   "metadata": {},
   "outputs": [],
   "source": []
  }
 ],
 "metadata": {
  "kernelspec": {
   "display_name": "Python 3",
   "language": "python",
   "name": "python3"
  },
  "language_info": {
   "codemirror_mode": {
    "name": "ipython",
    "version": 3
   },
   "file_extension": ".py",
   "mimetype": "text/x-python",
   "name": "python",
   "nbconvert_exporter": "python",
   "pygments_lexer": "ipython3",
   "version": "3.8.5"
  }
 },
 "nbformat": 4,
 "nbformat_minor": 4
}
